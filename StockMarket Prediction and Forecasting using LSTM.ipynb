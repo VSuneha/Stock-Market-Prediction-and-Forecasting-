{
 "cells": [
  {
   "cell_type": "code",
   "execution_count": 87,
   "metadata": {},
   "outputs": [],
   "source": [
    "import numpy as np\n",
    "import pandas as pd\n",
    "import matplotlib.pyplot as plt\n",
    "from matplotlib import figure\n",
    "import torch\n",
    "import torch.nn as nn\n",
    "from sklearn.preprocessing import MinMaxScaler"
   ]
  },
  {
   "cell_type": "code",
   "execution_count": 88,
   "metadata": {},
   "outputs": [],
   "source": [
    "data = pd.read_csv(\"cocacola.csv\")"
   ]
  },
  {
   "cell_type": "code",
   "execution_count": 89,
   "metadata": {},
   "outputs": [
    {
     "data": {
      "text/html": [
       "<div>\n",
       "<style scoped>\n",
       "    .dataframe tbody tr th:only-of-type {\n",
       "        vertical-align: middle;\n",
       "    }\n",
       "\n",
       "    .dataframe tbody tr th {\n",
       "        vertical-align: top;\n",
       "    }\n",
       "\n",
       "    .dataframe thead th {\n",
       "        text-align: right;\n",
       "    }\n",
       "</style>\n",
       "<table border=\"1\" class=\"dataframe\">\n",
       "  <thead>\n",
       "    <tr style=\"text-align: right;\">\n",
       "      <th></th>\n",
       "      <th>Date</th>\n",
       "      <th>Open</th>\n",
       "      <th>High</th>\n",
       "      <th>Low</th>\n",
       "      <th>Close</th>\n",
       "      <th>Adj Close</th>\n",
       "      <th>Volume</th>\n",
       "    </tr>\n",
       "  </thead>\n",
       "  <tbody>\n",
       "    <tr>\n",
       "      <th>0</th>\n",
       "      <td>1962-01-02</td>\n",
       "      <td>0.263021</td>\n",
       "      <td>0.270182</td>\n",
       "      <td>0.263021</td>\n",
       "      <td>0.263021</td>\n",
       "      <td>0.051133</td>\n",
       "      <td>806400</td>\n",
       "    </tr>\n",
       "    <tr>\n",
       "      <th>1</th>\n",
       "      <td>1962-01-03</td>\n",
       "      <td>0.259115</td>\n",
       "      <td>0.259115</td>\n",
       "      <td>0.253255</td>\n",
       "      <td>0.257161</td>\n",
       "      <td>0.049994</td>\n",
       "      <td>1574400</td>\n",
       "    </tr>\n",
       "    <tr>\n",
       "      <th>2</th>\n",
       "      <td>1962-01-04</td>\n",
       "      <td>0.257813</td>\n",
       "      <td>0.261068</td>\n",
       "      <td>0.257813</td>\n",
       "      <td>0.259115</td>\n",
       "      <td>0.050374</td>\n",
       "      <td>844800</td>\n",
       "    </tr>\n",
       "    <tr>\n",
       "      <th>3</th>\n",
       "      <td>1962-01-05</td>\n",
       "      <td>0.259115</td>\n",
       "      <td>0.262370</td>\n",
       "      <td>0.252604</td>\n",
       "      <td>0.253255</td>\n",
       "      <td>0.049234</td>\n",
       "      <td>1420800</td>\n",
       "    </tr>\n",
       "    <tr>\n",
       "      <th>4</th>\n",
       "      <td>1962-01-08</td>\n",
       "      <td>0.251302</td>\n",
       "      <td>0.251302</td>\n",
       "      <td>0.245768</td>\n",
       "      <td>0.250651</td>\n",
       "      <td>0.048728</td>\n",
       "      <td>2035200</td>\n",
       "    </tr>\n",
       "  </tbody>\n",
       "</table>\n",
       "</div>"
      ],
      "text/plain": [
       "         Date      Open      High       Low     Close  Adj Close   Volume\n",
       "0  1962-01-02  0.263021  0.270182  0.263021  0.263021   0.051133   806400\n",
       "1  1962-01-03  0.259115  0.259115  0.253255  0.257161   0.049994  1574400\n",
       "2  1962-01-04  0.257813  0.261068  0.257813  0.259115   0.050374   844800\n",
       "3  1962-01-05  0.259115  0.262370  0.252604  0.253255   0.049234  1420800\n",
       "4  1962-01-08  0.251302  0.251302  0.245768  0.250651   0.048728  2035200"
      ]
     },
     "execution_count": 89,
     "metadata": {},
     "output_type": "execute_result"
    }
   ],
   "source": [
    "data.head()"
   ]
  },
  {
   "cell_type": "code",
   "execution_count": 90,
   "metadata": {},
   "outputs": [],
   "source": [
    "closed_prices =data[\"Close\"]\n",
    "seq_len = 15"
   ]
  },
  {
   "cell_type": "code",
   "execution_count": 91,
   "metadata": {},
   "outputs": [
    {
     "name": "stdout",
     "output_type": "stream",
     "text": [
      "[0.00118396 0.00108619 0.00111879 ... 0.96546428 0.97530781 0.95995857]\n"
     ]
    }
   ],
   "source": [
    "mm=MinMaxScaler()\n",
    "scaled_price = mm.fit_transform(np.array(closed_prices)[..., None]).squeeze()\n",
    "print(scaled_price)"
   ]
  },
  {
   "cell_type": "code",
   "execution_count": 93,
   "metadata": {},
   "outputs": [
    {
     "name": "stdout",
     "output_type": "stream",
     "text": [
      "<class 'pandas.core.frame.DataFrame'>\n",
      "RangeIndex: 15096 entries, 0 to 15095\n",
      "Data columns (total 7 columns):\n",
      "Date         15096 non-null object\n",
      "Open         15096 non-null float64\n",
      "High         15096 non-null float64\n",
      "Low          15096 non-null float64\n",
      "Close        15096 non-null float64\n",
      "Adj Close    15096 non-null float64\n",
      "Volume       15096 non-null int64\n",
      "dtypes: float64(5), int64(1), object(1)\n",
      "memory usage: 825.6+ KB\n"
     ]
    }
   ],
   "source": [
    "data.info()"
   ]
  },
  {
   "cell_type": "code",
   "execution_count": 94,
   "metadata": {},
   "outputs": [
    {
     "data": {
      "text/plain": [
       "<bound method DataFrame.sum of         Date   Open   High    Low  Close  Adj Close  Volume\n",
       "0      False  False  False  False  False      False   False\n",
       "1      False  False  False  False  False      False   False\n",
       "2      False  False  False  False  False      False   False\n",
       "3      False  False  False  False  False      False   False\n",
       "4      False  False  False  False  False      False   False\n",
       "5      False  False  False  False  False      False   False\n",
       "6      False  False  False  False  False      False   False\n",
       "7      False  False  False  False  False      False   False\n",
       "8      False  False  False  False  False      False   False\n",
       "9      False  False  False  False  False      False   False\n",
       "10     False  False  False  False  False      False   False\n",
       "11     False  False  False  False  False      False   False\n",
       "12     False  False  False  False  False      False   False\n",
       "13     False  False  False  False  False      False   False\n",
       "14     False  False  False  False  False      False   False\n",
       "15     False  False  False  False  False      False   False\n",
       "16     False  False  False  False  False      False   False\n",
       "17     False  False  False  False  False      False   False\n",
       "18     False  False  False  False  False      False   False\n",
       "19     False  False  False  False  False      False   False\n",
       "20     False  False  False  False  False      False   False\n",
       "21     False  False  False  False  False      False   False\n",
       "22     False  False  False  False  False      False   False\n",
       "23     False  False  False  False  False      False   False\n",
       "24     False  False  False  False  False      False   False\n",
       "25     False  False  False  False  False      False   False\n",
       "26     False  False  False  False  False      False   False\n",
       "27     False  False  False  False  False      False   False\n",
       "28     False  False  False  False  False      False   False\n",
       "29     False  False  False  False  False      False   False\n",
       "...      ...    ...    ...    ...    ...        ...     ...\n",
       "15066  False  False  False  False  False      False   False\n",
       "15067  False  False  False  False  False      False   False\n",
       "15068  False  False  False  False  False      False   False\n",
       "15069  False  False  False  False  False      False   False\n",
       "15070  False  False  False  False  False      False   False\n",
       "15071  False  False  False  False  False      False   False\n",
       "15072  False  False  False  False  False      False   False\n",
       "15073  False  False  False  False  False      False   False\n",
       "15074  False  False  False  False  False      False   False\n",
       "15075  False  False  False  False  False      False   False\n",
       "15076  False  False  False  False  False      False   False\n",
       "15077  False  False  False  False  False      False   False\n",
       "15078  False  False  False  False  False      False   False\n",
       "15079  False  False  False  False  False      False   False\n",
       "15080  False  False  False  False  False      False   False\n",
       "15081  False  False  False  False  False      False   False\n",
       "15082  False  False  False  False  False      False   False\n",
       "15083  False  False  False  False  False      False   False\n",
       "15084  False  False  False  False  False      False   False\n",
       "15085  False  False  False  False  False      False   False\n",
       "15086  False  False  False  False  False      False   False\n",
       "15087  False  False  False  False  False      False   False\n",
       "15088  False  False  False  False  False      False   False\n",
       "15089  False  False  False  False  False      False   False\n",
       "15090  False  False  False  False  False      False   False\n",
       "15091  False  False  False  False  False      False   False\n",
       "15092  False  False  False  False  False      False   False\n",
       "15093  False  False  False  False  False      False   False\n",
       "15094  False  False  False  False  False      False   False\n",
       "15095  False  False  False  False  False      False   False\n",
       "\n",
       "[15096 rows x 7 columns]>"
      ]
     },
     "execution_count": 94,
     "metadata": {},
     "output_type": "execute_result"
    }
   ],
   "source": [
    "data.isnull().sum"
   ]
  },
  {
   "cell_type": "code",
   "execution_count": 95,
   "metadata": {
    "scrolled": true
   },
   "outputs": [
    {
     "data": {
      "text/html": [
       "<div>\n",
       "<style scoped>\n",
       "    .dataframe tbody tr th:only-of-type {\n",
       "        vertical-align: middle;\n",
       "    }\n",
       "\n",
       "    .dataframe tbody tr th {\n",
       "        vertical-align: top;\n",
       "    }\n",
       "\n",
       "    .dataframe thead th {\n",
       "        text-align: right;\n",
       "    }\n",
       "</style>\n",
       "<table border=\"1\" class=\"dataframe\">\n",
       "  <thead>\n",
       "    <tr style=\"text-align: right;\">\n",
       "      <th></th>\n",
       "      <th>Open</th>\n",
       "      <th>High</th>\n",
       "      <th>Low</th>\n",
       "      <th>Close</th>\n",
       "      <th>Adj Close</th>\n",
       "      <th>Volume</th>\n",
       "    </tr>\n",
       "  </thead>\n",
       "  <tbody>\n",
       "    <tr>\n",
       "      <th>count</th>\n",
       "      <td>15096.000000</td>\n",
       "      <td>15096.000000</td>\n",
       "      <td>15096.000000</td>\n",
       "      <td>15096.000000</td>\n",
       "      <td>15096.000000</td>\n",
       "      <td>1.509600e+04</td>\n",
       "    </tr>\n",
       "    <tr>\n",
       "      <th>mean</th>\n",
       "      <td>16.056202</td>\n",
       "      <td>16.188428</td>\n",
       "      <td>15.921876</td>\n",
       "      <td>16.060734</td>\n",
       "      <td>11.367487</td>\n",
       "      <td>9.032904e+06</td>\n",
       "    </tr>\n",
       "    <tr>\n",
       "      <th>std</th>\n",
       "      <td>16.939301</td>\n",
       "      <td>17.064336</td>\n",
       "      <td>16.811753</td>\n",
       "      <td>16.941712</td>\n",
       "      <td>14.253637</td>\n",
       "      <td>7.935744e+06</td>\n",
       "    </tr>\n",
       "    <tr>\n",
       "      <th>min</th>\n",
       "      <td>0.192708</td>\n",
       "      <td>0.193359</td>\n",
       "      <td>0.182292</td>\n",
       "      <td>0.192057</td>\n",
       "      <td>0.037855</td>\n",
       "      <td>7.680000e+04</td>\n",
       "    </tr>\n",
       "    <tr>\n",
       "      <th>25%</th>\n",
       "      <td>0.860677</td>\n",
       "      <td>0.869792</td>\n",
       "      <td>0.854167</td>\n",
       "      <td>0.860352</td>\n",
       "      <td>0.242312</td>\n",
       "      <td>2.812800e+06</td>\n",
       "    </tr>\n",
       "    <tr>\n",
       "      <th>50%</th>\n",
       "      <td>9.328125</td>\n",
       "      <td>9.398438</td>\n",
       "      <td>9.218750</td>\n",
       "      <td>9.351562</td>\n",
       "      <td>4.642848</td>\n",
       "      <td>7.585200e+06</td>\n",
       "    </tr>\n",
       "    <tr>\n",
       "      <th>75%</th>\n",
       "      <td>28.875000</td>\n",
       "      <td>29.167500</td>\n",
       "      <td>28.563125</td>\n",
       "      <td>28.901562</td>\n",
       "      <td>17.251080</td>\n",
       "      <td>1.291275e+07</td>\n",
       "    </tr>\n",
       "    <tr>\n",
       "      <th>max</th>\n",
       "      <td>59.810001</td>\n",
       "      <td>60.130001</td>\n",
       "      <td>59.619999</td>\n",
       "      <td>60.130001</td>\n",
       "      <td>58.650002</td>\n",
       "      <td>1.241690e+08</td>\n",
       "    </tr>\n",
       "  </tbody>\n",
       "</table>\n",
       "</div>"
      ],
      "text/plain": [
       "               Open          High           Low         Close     Adj Close  \\\n",
       "count  15096.000000  15096.000000  15096.000000  15096.000000  15096.000000   \n",
       "mean      16.056202     16.188428     15.921876     16.060734     11.367487   \n",
       "std       16.939301     17.064336     16.811753     16.941712     14.253637   \n",
       "min        0.192708      0.193359      0.182292      0.192057      0.037855   \n",
       "25%        0.860677      0.869792      0.854167      0.860352      0.242312   \n",
       "50%        9.328125      9.398438      9.218750      9.351562      4.642848   \n",
       "75%       28.875000     29.167500     28.563125     28.901562     17.251080   \n",
       "max       59.810001     60.130001     59.619999     60.130001     58.650002   \n",
       "\n",
       "             Volume  \n",
       "count  1.509600e+04  \n",
       "mean   9.032904e+06  \n",
       "std    7.935744e+06  \n",
       "min    7.680000e+04  \n",
       "25%    2.812800e+06  \n",
       "50%    7.585200e+06  \n",
       "75%    1.291275e+07  \n",
       "max    1.241690e+08  "
      ]
     },
     "execution_count": 95,
     "metadata": {},
     "output_type": "execute_result"
    }
   ],
   "source": [
    "data.describe()"
   ]
  },
  {
   "cell_type": "code",
   "execution_count": 96,
   "metadata": {},
   "outputs": [
    {
     "data": {
      "text/plain": [
       "array([[<matplotlib.axes._subplots.AxesSubplot object at 0x000002ADC0197D68>,\n",
       "        <matplotlib.axes._subplots.AxesSubplot object at 0x000002ADC01CAB38>],\n",
       "       [<matplotlib.axes._subplots.AxesSubplot object at 0x000002ADC01900F0>,\n",
       "        <matplotlib.axes._subplots.AxesSubplot object at 0x000002ADC00A8B00>],\n",
       "       [<matplotlib.axes._subplots.AxesSubplot object at 0x000002ADC0047D68>,\n",
       "        <matplotlib.axes._subplots.AxesSubplot object at 0x000002ADC0047CF8>]],\n",
       "      dtype=object)"
      ]
     },
     "execution_count": 96,
     "metadata": {},
     "output_type": "execute_result"
    },
    {
     "data": {
      "image/png": "[encoded data removed]",
      "text/plain": [
       "<matplotlib.figure.Figure at 0x2adc01b1b38>"
      ]
     },
     "metadata": {},
     "output_type": "display_data"
    }
   ],
   "source": [
    "data.hist()"
   ]
  },
  {
   "cell_type": "code",
   "execution_count": 97,
   "metadata": {},
   "outputs": [
    {
     "data": {
      "text/html": [
       "<div>\n",
       "<style scoped>\n",
       "    .dataframe tbody tr th:only-of-type {\n",
       "        vertical-align: middle;\n",
       "    }\n",
       "\n",
       "    .dataframe tbody tr th {\n",
       "        vertical-align: top;\n",
       "    }\n",
       "\n",
       "    .dataframe thead th {\n",
       "        text-align: right;\n",
       "    }\n",
       "</style>\n",
       "<table border=\"1\" class=\"dataframe\">\n",
       "  <thead>\n",
       "    <tr style=\"text-align: right;\">\n",
       "      <th></th>\n",
       "      <th>Date</th>\n",
       "      <th>Open</th>\n",
       "      <th>High</th>\n",
       "      <th>Low</th>\n",
       "      <th>Close</th>\n",
       "      <th>Adj Close</th>\n",
       "      <th>Volume</th>\n",
       "    </tr>\n",
       "  </thead>\n",
       "  <tbody>\n",
       "    <tr>\n",
       "      <th>0</th>\n",
       "      <td>1962-01-02</td>\n",
       "      <td>0.263021</td>\n",
       "      <td>0.270182</td>\n",
       "      <td>0.263021</td>\n",
       "      <td>0.263021</td>\n",
       "      <td>0.051133</td>\n",
       "      <td>806400</td>\n",
       "    </tr>\n",
       "    <tr>\n",
       "      <th>1</th>\n",
       "      <td>1962-01-03</td>\n",
       "      <td>0.259115</td>\n",
       "      <td>0.259115</td>\n",
       "      <td>0.253255</td>\n",
       "      <td>0.257161</td>\n",
       "      <td>0.049994</td>\n",
       "      <td>1574400</td>\n",
       "    </tr>\n",
       "    <tr>\n",
       "      <th>2</th>\n",
       "      <td>1962-01-04</td>\n",
       "      <td>0.257813</td>\n",
       "      <td>0.261068</td>\n",
       "      <td>0.257813</td>\n",
       "      <td>0.259115</td>\n",
       "      <td>0.050374</td>\n",
       "      <td>844800</td>\n",
       "    </tr>\n",
       "    <tr>\n",
       "      <th>3</th>\n",
       "      <td>1962-01-05</td>\n",
       "      <td>0.259115</td>\n",
       "      <td>0.262370</td>\n",
       "      <td>0.252604</td>\n",
       "      <td>0.253255</td>\n",
       "      <td>0.049234</td>\n",
       "      <td>1420800</td>\n",
       "    </tr>\n",
       "    <tr>\n",
       "      <th>4</th>\n",
       "      <td>1962-01-08</td>\n",
       "      <td>0.251302</td>\n",
       "      <td>0.251302</td>\n",
       "      <td>0.245768</td>\n",
       "      <td>0.250651</td>\n",
       "      <td>0.048728</td>\n",
       "      <td>2035200</td>\n",
       "    </tr>\n",
       "  </tbody>\n",
       "</table>\n",
       "</div>"
      ],
      "text/plain": [
       "         Date      Open      High       Low     Close  Adj Close   Volume\n",
       "0  1962-01-02  0.263021  0.270182  0.263021  0.263021   0.051133   806400\n",
       "1  1962-01-03  0.259115  0.259115  0.253255  0.257161   0.049994  1574400\n",
       "2  1962-01-04  0.257813  0.261068  0.257813  0.259115   0.050374   844800\n",
       "3  1962-01-05  0.259115  0.262370  0.252604  0.253255   0.049234  1420800\n",
       "4  1962-01-08  0.251302  0.251302  0.245768  0.250651   0.048728  2035200"
      ]
     },
     "execution_count": 97,
     "metadata": {},
     "output_type": "execute_result"
    }
   ],
   "source": [
    "srt=data.sort_values(by='Date')\n",
    "srt.head()"
   ]
  },
  {
   "cell_type": "code",
   "execution_count": 98,
   "metadata": {},
   "outputs": [],
   "source": [
    "srt.reset_index(inplace=True)"
   ]
  },
  {
   "cell_type": "code",
   "execution_count": 99,
   "metadata": {},
   "outputs": [
    {
     "data": {
      "text/html": [
       "<div>\n",
       "<style scoped>\n",
       "    .dataframe tbody tr th:only-of-type {\n",
       "        vertical-align: middle;\n",
       "    }\n",
       "\n",
       "    .dataframe tbody tr th {\n",
       "        vertical-align: top;\n",
       "    }\n",
       "\n",
       "    .dataframe thead th {\n",
       "        text-align: right;\n",
       "    }\n",
       "</style>\n",
       "<table border=\"1\" class=\"dataframe\">\n",
       "  <thead>\n",
       "    <tr style=\"text-align: right;\">\n",
       "      <th></th>\n",
       "      <th>index</th>\n",
       "      <th>Date</th>\n",
       "      <th>Open</th>\n",
       "      <th>High</th>\n",
       "      <th>Low</th>\n",
       "      <th>Close</th>\n",
       "      <th>Adj Close</th>\n",
       "      <th>Volume</th>\n",
       "    </tr>\n",
       "  </thead>\n",
       "  <tbody>\n",
       "    <tr>\n",
       "      <th>0</th>\n",
       "      <td>0</td>\n",
       "      <td>1962-01-02</td>\n",
       "      <td>0.263021</td>\n",
       "      <td>0.270182</td>\n",
       "      <td>0.263021</td>\n",
       "      <td>0.263021</td>\n",
       "      <td>0.051133</td>\n",
       "      <td>806400</td>\n",
       "    </tr>\n",
       "    <tr>\n",
       "      <th>1</th>\n",
       "      <td>1</td>\n",
       "      <td>1962-01-03</td>\n",
       "      <td>0.259115</td>\n",
       "      <td>0.259115</td>\n",
       "      <td>0.253255</td>\n",
       "      <td>0.257161</td>\n",
       "      <td>0.049994</td>\n",
       "      <td>1574400</td>\n",
       "    </tr>\n",
       "    <tr>\n",
       "      <th>2</th>\n",
       "      <td>2</td>\n",
       "      <td>1962-01-04</td>\n",
       "      <td>0.257813</td>\n",
       "      <td>0.261068</td>\n",
       "      <td>0.257813</td>\n",
       "      <td>0.259115</td>\n",
       "      <td>0.050374</td>\n",
       "      <td>844800</td>\n",
       "    </tr>\n",
       "    <tr>\n",
       "      <th>3</th>\n",
       "      <td>3</td>\n",
       "      <td>1962-01-05</td>\n",
       "      <td>0.259115</td>\n",
       "      <td>0.262370</td>\n",
       "      <td>0.252604</td>\n",
       "      <td>0.253255</td>\n",
       "      <td>0.049234</td>\n",
       "      <td>1420800</td>\n",
       "    </tr>\n",
       "    <tr>\n",
       "      <th>4</th>\n",
       "      <td>4</td>\n",
       "      <td>1962-01-08</td>\n",
       "      <td>0.251302</td>\n",
       "      <td>0.251302</td>\n",
       "      <td>0.245768</td>\n",
       "      <td>0.250651</td>\n",
       "      <td>0.048728</td>\n",
       "      <td>2035200</td>\n",
       "    </tr>\n",
       "  </tbody>\n",
       "</table>\n",
       "</div>"
      ],
      "text/plain": [
       "   index        Date      Open      High       Low     Close  Adj Close  \\\n",
       "0      0  1962-01-02  0.263021  0.270182  0.263021  0.263021   0.051133   \n",
       "1      1  1962-01-03  0.259115  0.259115  0.253255  0.257161   0.049994   \n",
       "2      2  1962-01-04  0.257813  0.261068  0.257813  0.259115   0.050374   \n",
       "3      3  1962-01-05  0.259115  0.262370  0.252604  0.253255   0.049234   \n",
       "4      4  1962-01-08  0.251302  0.251302  0.245768  0.250651   0.048728   \n",
       "\n",
       "    Volume  \n",
       "0   806400  \n",
       "1  1574400  \n",
       "2   844800  \n",
       "3  1420800  \n",
       "4  2035200  "
      ]
     },
     "execution_count": 99,
     "metadata": {},
     "output_type": "execute_result"
    }
   ],
   "source": [
    "srt.head()"
   ]
  },
  {
   "cell_type": "code",
   "execution_count": 100,
   "metadata": {},
   "outputs": [
    {
     "data": {
      "text/plain": [
       "[<matplotlib.lines.Line2D at 0x2adbfe1b748>]"
      ]
     },
     "execution_count": 100,
     "metadata": {},
     "output_type": "execute_result"
    },
    {
     "data": {
      "image/png": "[encoded data removed]",
      "text/plain": [
       "<matplotlib.figure.Figure at 0x2adbfe96da0>"
      ]
     },
     "metadata": {},
     "output_type": "display_data"
    }
   ],
   "source": [
    "plt.figure(figsize=(10,5))\n",
    "plt.plot(srt['Date'],srt['Close'])"
   ]
  },
  {
   "cell_type": "code",
   "execution_count": 101,
   "metadata": {},
   "outputs": [
    {
     "data": {
      "text/plain": [
       "array([[0.00118396],\n",
       "       [0.00108619],\n",
       "       [0.00111879],\n",
       "       ...,\n",
       "       [0.96546428],\n",
       "       [0.97530781],\n",
       "       [0.95995857]])"
      ]
     },
     "execution_count": 101,
     "metadata": {},
     "output_type": "execute_result"
    }
   ],
   "source": [
    "close_srt=srt['Close']\n",
    "scaler = MinMaxScaler(feature_range=(0,1))\n",
    "close_srt = scaler.fit_transform(np.array(close_srt).reshape(-1,1))\n",
    "close_srt"
   ]
  },
  {
   "cell_type": "code",
   "execution_count": 102,
   "metadata": {},
   "outputs": [],
   "source": [
    "x=[]\n",
    "y=[]\n",
    "for i in range(len(scaled_price)-seq_len):\n",
    "    x.append(scaled_price[i:i+seq_len])\n",
    "    y.append(scaled_price[i+seq_len])"
   ]
  },
  {
   "cell_type": "code",
   "execution_count": 103,
   "metadata": {},
   "outputs": [
    {
     "name": "stdout",
     "output_type": "stream",
     "text": [
      "torch.Size([12064, 15, 1]) torch.Size([3017, 15, 1])\n",
      "torch.Size([12064, 1, 1]) torch.Size([3017, 1, 1])\n"
     ]
    }
   ],
   "source": [
    "x=np.array(x)[...,None]\n",
    "y=np.array(y)[...,None]\n",
    "\n",
    "train_x = torch.from_numpy(x[:int(0.8 * x.shape[0])]).float()\n",
    "train_y = torch.from_numpy(y[:int(0.8 * y.shape[0])]).float().unsqueeze(1)\n",
    "test_x = torch.from_numpy(x[int(0.8 * x.shape[0]):]).float()\n",
    "test_y = torch.from_numpy(y[int(0.8 * y.shape[0]):]).float().unsqueeze(1)\n",
    "print(train_x.shape,test_x.shape)\n",
    "print(train_y.shape,test_y.shape)"
   ]
  },
  {
   "cell_type": "code",
   "execution_count": 104,
   "metadata": {},
   "outputs": [
    {
     "name": "stdout",
     "output_type": "stream",
     "text": [
      "10 epoch loss 0.03050958178937435\n",
      "20 epoch loss 0.0236634761095047\n",
      "30 epoch loss 0.010207249782979488\n",
      "40 epoch loss 0.004054251592606306\n",
      "50 epoch loss 0.0010794061236083508\n",
      "60 epoch loss 0.0006571889971382916\n",
      "70 epoch loss 0.0004601103428285569\n",
      "80 epoch loss 0.00026754135615192354\n",
      "90 epoch loss 0.00015846181486267596\n",
      "100 epoch loss 0.00010602792463032529\n"
     ]
    },
    {
     "data": {
      "image/png": "[encoded data removed]",
      "text/plain": [
       "<matplotlib.figure.Figure at 0x2adabd06748>"
      ]
     },
     "metadata": {},
     "output_type": "display_data"
    }
   ],
   "source": [
    "class Model(nn.Module):\n",
    "    def __init__(self,input_size,hidden_size):\n",
    "        super().__init__()\n",
    "        self.lstm=nn.LSTM(input_size,hidden_size,batch_first=True)\n",
    "        self.fc=nn.Linear(hidden_size,1)\n",
    "    def forward(self,x):\n",
    "        output,(hidden,cell)=self.lstm(x)\n",
    "        return self.fc(hidden[-1,:])\n",
    "model=Model(1,150)\n",
    "\n",
    "optimizer=torch.optim.Adam(model.parameters(),lr=0.001)\n",
    "loss_fn=nn.MSELoss()\n",
    "num_epochs=110\n",
    "for epoch in range(num_epochs):\n",
    "    output=model(train_x)\n",
    "    loss=loss_fn(output,train_y.squeeze(1))\n",
    "    \n",
    "    \n",
    "    optimizer.zero_grad()\n",
    "    loss.backward()\n",
    "    optimizer.step()\n",
    "    \n",
    "    if epoch%10==0 and epoch!=0:\n",
    "        print(epoch,\"epoch loss\",loss.item())\n",
    "        \n",
    "model.eval()\n",
    "with torch.no_grad():\n",
    "    output=model(test_x)\n",
    "    \n",
    "    \n",
    "pred=mm.inverse_transform(output.numpy())\n",
    "test_y_2d=test_y.reshape(-1,1)\n",
    "real=mm.inverse_transform(test_y_2d.numpy())\n",
    "\n",
    "plt.plot(pred.squeeze(),color=\"red\",label=\"predicted\")\n",
    "plt.plot(real.squeeze(),color=\"green\",label=\"real\")\n",
    "plt.show()"
   ]
  },
  {
   "cell_type": "code",
   "execution_count": null,
   "metadata": {},
   "outputs": [],
   "source": []
  }
 ],
 "metadata": {
  "kernelspec": {
   "display_name": "Python 3",
   "language": "python",
   "name": "python3"
  },
  "language_info": {
   "codemirror_mode": {
    "name": "ipython",
    "version": 3
   },
   "file_extension": ".py",
   "mimetype": "text/x-python",
   "name": "python",
   "nbconvert_exporter": "python",
   "pygments_lexer": "ipython3",
   "version": "3.6.4"
  }
 },
 "nbformat": 4,
 "nbformat_minor": 2
}
